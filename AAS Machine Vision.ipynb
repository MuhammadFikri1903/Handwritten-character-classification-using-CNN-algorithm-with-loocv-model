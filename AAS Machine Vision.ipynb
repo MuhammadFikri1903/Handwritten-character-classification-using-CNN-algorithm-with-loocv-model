{
 "cells": [
  {
   "cell_type": "code",
   "execution_count": 1,
   "metadata": {},
   "outputs": [],
   "source": [
    "import os\n",
    "import torch\n",
    "import cv2 as cv\n",
    "import numpy as np\n",
    "import pandas as pd\n",
    "from sklearn.model_selection import LeaveOneOut, cross_val_predict\n",
    "from sklearn.metrics import confusion_matrix, precision_score, recall_score, accuracy_score, f1_score\n",
    "import matplotlib.pyplot as plt\n",
    "from mlxtend.plotting import plot_confusion_matrix\n",
    "import matplotlib.pyplot as plt\n",
    "from torchvision import datasets, transforms\n",
    "from torch.utils.data import TensorDataset, DataLoader\n",
    "import torch.optim as optim\n"
   ]
  },
  {
   "cell_type": "code",
   "execution_count": 4,
   "metadata": {},
   "outputs": [],
   "source": [
    "# Load EMNIST dataset\n",
    "train_data = pd.read_csv('C:/Kuliah/Semester 5/Machine Vision/Ujian/archive (7)/emnist-bymerge-train.csv', header=None, nrows=2000)\n",
    "test_data = pd.read_csv('C:/Kuliah/Semester 5/Machine Vision/Ujian/archive (7)/emnist-bymerge-test.csv', header=None, nrows=2000)\n"
   ]
  },
  {
   "cell_type": "code",
   "execution_count": 5,
   "metadata": {},
   "outputs": [],
   "source": [
    "#reshape data agar sesuai dengan format CNN\n",
    "x_train = train_data.iloc[:, 1:].values.reshape(-1, 28, 28, 1).astype('float32')\n",
    "y_train = train_data.iloc[:, 0].values.astype('int')\n",
    "x_test = test_data.iloc[:, 1:].values.reshape(-1, 28, 28, 1).astype('float32')\n",
    "y_test = test_data.iloc[:, 0].values.astype('int')\n",
    "\n",
    "\n",
    "#gambar rgb memiliki range 0 - 255\n",
    "#sedangkan beberapa arsitektur standar yang ada di cnn menggunakan range 0 - 1\n",
    "#jadi mesti dirubah terlebih dahulu dengan cara menormalize image dengan nilai mean dan standar deviasi dari masing\" intensity rgb dari datasets / image yang ada di datasets yang kita gunakan\n",
    "x_train = x_train.reshape(-1, 1, 28, 28) / 255.0\n",
    "x_test = x_test.reshape(-1, 1, 28, 28) / 255.0"
   ]
  },
  {
   "cell_type": "code",
   "execution_count": 7,
   "metadata": {},
   "outputs": [],
   "source": [
    "# Resize ke 224x224\n",
    "# untuk menggunakan cnn, size image yang ada pada direktori harus sama ukurannya, jika berbeda tidak akan bisa\n",
    "import torch.nn.functional as F\n",
    "\n",
    "x_train_resized = F.interpolate(torch.tensor(x_train), size=(224, 224), mode='bilinear')\n",
    "x_test_resized = F.interpolate(torch.tensor(x_test), size=(224, 224), mode='bilinear')"
   ]
  },
  {
   "cell_type": "code",
   "execution_count": 8,
   "metadata": {},
   "outputs": [],
   "source": [
    "# Duplicate channel untuk grayscale -> RGB (1 channel -> 3 channel)\n",
    "x_train_rgb = x_train_resized.repeat(1, 3, 1, 1)  # (batch_size, 3, 224, 224)\n",
    "x_test_rgb = x_test_resized.repeat(1, 3, 1, 1)"
   ]
  },
  {
   "cell_type": "code",
   "execution_count": 9,
   "metadata": {},
   "outputs": [],
   "source": [
    "#Melakukan normalisasi datasets\n",
    "mean = torch.tensor([0.485, 0.456, 0.406]).view(1, 3, 1, 1)\n",
    "std = torch.tensor([0.229, 0.224, 0.225]).view(1, 3, 1, 1)\n",
    "\n",
    "x_train_normalized = (x_train_rgb - mean) / std\n",
    "x_test_normalized = (x_test_rgb - mean) / std"
   ]
  },
  {
   "cell_type": "code",
   "execution_count": 10,
   "metadata": {},
   "outputs": [],
   "source": [
    "# Konversi label menjadi tensor\n",
    "y_train_tensor = torch.tensor(y_train)\n",
    "y_test_tensor = torch.tensor(y_test)"
   ]
  },
  {
   "cell_type": "code",
   "execution_count": 11,
   "metadata": {},
   "outputs": [],
   "source": [
    "# Buat TensorDataset\n",
    "train_dataset = TensorDataset(x_train_normalized, y_train_tensor)\n",
    "test_dataset = TensorDataset(x_test_normalized, y_test_tensor)"
   ]
  },
  {
   "cell_type": "code",
   "execution_count": 12,
   "metadata": {},
   "outputs": [],
   "source": [
    "#datasets yang kita punya tadi masukkan ke dalam data loader\n",
    "#tujuan dataloader ialah tidak melakukan proses training perimage, tetapi beberapa image sekaligus\n",
    "# Buat DataLoader\n",
    "train_loader = DataLoader(train_dataset, batch_size=64, shuffle=True, num_workers=4)\n",
    "test_loader = DataLoader(test_dataset, batch_size=64, shuffle=False, num_workers=4)"
   ]
  },
  {
   "cell_type": "code",
   "execution_count": 13,
   "metadata": {},
   "outputs": [
    {
     "name": "stderr",
     "output_type": "stream",
     "text": [
      "c:\\Users\\fikri\\Library\\Library python\\ENV\\Lib\\site-packages\\torchvision\\models\\_utils.py:208: UserWarning: The parameter 'pretrained' is deprecated since 0.13 and may be removed in the future, please use 'weights' instead.\n",
      "  warnings.warn(\n",
      "c:\\Users\\fikri\\Library\\Library python\\ENV\\Lib\\site-packages\\torchvision\\models\\_utils.py:223: UserWarning: Arguments other than a weight enum or `None` for 'weights' are deprecated since 0.13 and may be removed in the future. The current behavior is equivalent to passing `weights=AlexNet_Weights.IMAGENET1K_V1`. You can also use `weights=AlexNet_Weights.DEFAULT` to get the most up-to-date weights.\n",
      "  warnings.warn(msg)\n"
     ]
    },
    {
     "data": {
      "text/plain": [
       "AlexNet(\n",
       "  (features): Sequential(\n",
       "    (0): Conv2d(3, 64, kernel_size=(11, 11), stride=(4, 4), padding=(2, 2))\n",
       "    (1): ReLU(inplace=True)\n",
       "    (2): MaxPool2d(kernel_size=3, stride=2, padding=0, dilation=1, ceil_mode=False)\n",
       "    (3): Conv2d(64, 192, kernel_size=(5, 5), stride=(1, 1), padding=(2, 2))\n",
       "    (4): ReLU(inplace=True)\n",
       "    (5): MaxPool2d(kernel_size=3, stride=2, padding=0, dilation=1, ceil_mode=False)\n",
       "    (6): Conv2d(192, 384, kernel_size=(3, 3), stride=(1, 1), padding=(1, 1))\n",
       "    (7): ReLU(inplace=True)\n",
       "    (8): Conv2d(384, 256, kernel_size=(3, 3), stride=(1, 1), padding=(1, 1))\n",
       "    (9): ReLU(inplace=True)\n",
       "    (10): Conv2d(256, 256, kernel_size=(3, 3), stride=(1, 1), padding=(1, 1))\n",
       "    (11): ReLU(inplace=True)\n",
       "    (12): MaxPool2d(kernel_size=3, stride=2, padding=0, dilation=1, ceil_mode=False)\n",
       "  )\n",
       "  (avgpool): AdaptiveAvgPool2d(output_size=(6, 6))\n",
       "  (classifier): Sequential(\n",
       "    (0): Dropout(p=0.5, inplace=False)\n",
       "    (1): Linear(in_features=9216, out_features=4096, bias=True)\n",
       "    (2): ReLU(inplace=True)\n",
       "    (3): Dropout(p=0.5, inplace=False)\n",
       "    (4): Linear(in_features=4096, out_features=4096, bias=True)\n",
       "    (5): ReLU(inplace=True)\n",
       "    (6): Linear(in_features=4096, out_features=1000, bias=True)\n",
       "  )\n",
       ")"
      ]
     },
     "execution_count": 13,
     "metadata": {},
     "output_type": "execute_result"
    }
   ],
   "source": [
    "from torchvision import models\n",
    "\n",
    "model = models.alexnet(pretrained=True) #mendownload model arsitektur beserta parameternya yaitu weight dan bias\n",
    "model"
   ]
  },
  {
   "cell_type": "code",
   "execution_count": 14,
   "metadata": {},
   "outputs": [],
   "source": [
    "# Ganti layer output untuk jumlah kelas Anda (misalnya 47 kelas untuk EMNIST)\n",
    "import torch.nn as nn\n",
    "\n",
    "model.classifier[6] = torch.nn.Linear(4096, 47)"
   ]
  },
  {
   "cell_type": "code",
   "execution_count": 15,
   "metadata": {},
   "outputs": [],
   "source": [
    "#untuk melakukan proses training, kita perlu mendefinisikan loss function\n",
    "#karena ini adalah masalah klasifikasi multi-kelas, fungsi kerugian yang umum digunakan adalah kerugian entropi silang kategorikal\n",
    "\n",
    "criterion = nn.CrossEntropyLoss()"
   ]
  },
  {
   "cell_type": "code",
   "execution_count": 16,
   "metadata": {},
   "outputs": [],
   "source": [
    "optimizer = optim.Adam(model.parameters(), lr=0.0001)"
   ]
  },
  {
   "cell_type": "code",
   "execution_count": 17,
   "metadata": {},
   "outputs": [
    {
     "data": {
      "text/plain": [
       "AlexNet(\n",
       "  (features): Sequential(\n",
       "    (0): Conv2d(3, 64, kernel_size=(11, 11), stride=(4, 4), padding=(2, 2))\n",
       "    (1): ReLU(inplace=True)\n",
       "    (2): MaxPool2d(kernel_size=3, stride=2, padding=0, dilation=1, ceil_mode=False)\n",
       "    (3): Conv2d(64, 192, kernel_size=(5, 5), stride=(1, 1), padding=(2, 2))\n",
       "    (4): ReLU(inplace=True)\n",
       "    (5): MaxPool2d(kernel_size=3, stride=2, padding=0, dilation=1, ceil_mode=False)\n",
       "    (6): Conv2d(192, 384, kernel_size=(3, 3), stride=(1, 1), padding=(1, 1))\n",
       "    (7): ReLU(inplace=True)\n",
       "    (8): Conv2d(384, 256, kernel_size=(3, 3), stride=(1, 1), padding=(1, 1))\n",
       "    (9): ReLU(inplace=True)\n",
       "    (10): Conv2d(256, 256, kernel_size=(3, 3), stride=(1, 1), padding=(1, 1))\n",
       "    (11): ReLU(inplace=True)\n",
       "    (12): MaxPool2d(kernel_size=3, stride=2, padding=0, dilation=1, ceil_mode=False)\n",
       "  )\n",
       "  (avgpool): AdaptiveAvgPool2d(output_size=(6, 6))\n",
       "  (classifier): Sequential(\n",
       "    (0): Dropout(p=0.5, inplace=False)\n",
       "    (1): Linear(in_features=9216, out_features=4096, bias=True)\n",
       "    (2): ReLU(inplace=True)\n",
       "    (3): Dropout(p=0.5, inplace=False)\n",
       "    (4): Linear(in_features=4096, out_features=4096, bias=True)\n",
       "    (5): ReLU(inplace=True)\n",
       "    (6): Linear(in_features=4096, out_features=47, bias=True)\n",
       "  )\n",
       ")"
      ]
     },
     "execution_count": 17,
     "metadata": {},
     "output_type": "execute_result"
    }
   ],
   "source": [
    "device = torch.device('cpu')\n",
    "\n",
    "model.to(device)"
   ]
  },
  {
   "cell_type": "code",
   "execution_count": 18,
   "metadata": {},
   "outputs": [
    {
     "name": "stdout",
     "output_type": "stream",
     "text": [
      "Epoch 1/10 - Loss: 4.2724, Acc: 0.0000\n",
      "Epoch 2/10 - Loss: 3.6575, Acc: 0.0000\n",
      "Epoch 3/10 - Loss: 3.0069, Acc: 0.2000\n",
      "Epoch 4/10 - Loss: 2.3297, Acc: 0.5000\n",
      "Epoch 5/10 - Loss: 1.9658, Acc: 0.5000\n",
      "Epoch 6/10 - Loss: 1.4253, Acc: 0.5000\n",
      "Epoch 7/10 - Loss: 1.0250, Acc: 0.7000\n",
      "Epoch 8/10 - Loss: 0.7593, Acc: 0.8000\n",
      "Epoch 9/10 - Loss: 0.4053, Acc: 1.0000\n",
      "Epoch 10/10 - Loss: 0.1705, Acc: 1.0000\n"
     ]
    }
   ],
   "source": [
    "num_epoch = 10\n",
    "list_loss = []\n",
    "list_acc = []\n",
    "\n",
    "for epoch in range(num_epoch):\n",
    "    train_loss = 0.0\n",
    "    train_corrects = 0\n",
    "\n",
    "    model.train()  # Set model ke mode pelatihan\n",
    "    for inputs, labels in train_loader:  # Gunakan train_loader\n",
    "        inputs = inputs.to(device)\n",
    "        labels = labels.to(device)\n",
    "\n",
    "        optimizer.zero_grad()  # Reset gradien\n",
    "\n",
    "        outputs = model(inputs)  # Forward pass\n",
    "        _, preds = torch.max(outputs, 1)  # Prediksi label\n",
    "        loss = criterion(outputs, labels)  # Hitung loss\n",
    "\n",
    "        loss.backward()  # Backward pass\n",
    "        optimizer.step()  # Update parameter\n",
    "\n",
    "        train_loss += loss.item() * inputs.size(0)  # Total loss\n",
    "        train_corrects += torch.sum(preds == labels.data)  # Jumlah prediksi benar\n",
    "\n",
    "    # Hitung rata-rata loss dan akurasi untuk epoch ini\n",
    "    epoch_loss = train_loss / len(train_loader.dataset)\n",
    "    epoch_acc = train_corrects.double() / len(train_loader.dataset)\n",
    "\n",
    "    list_loss.append(epoch_loss)\n",
    "    list_acc.append(epoch_acc)\n",
    "\n",
    "    print(f'Epoch {epoch+1}/{num_epoch} - Loss: {epoch_loss:.4f}, Acc: {epoch_acc:.4f}')\n"
   ]
  },
  {
   "cell_type": "code",
   "execution_count": 19,
   "metadata": {},
   "outputs": [
    {
     "name": "stdout",
     "output_type": "stream",
     "text": [
      "Test - Loss: 4.6635, Acc: 0.3000\n"
     ]
    }
   ],
   "source": [
    "    model.eval()  # Set model ke mode evaluasi\n",
    "    test_loss = 0.0\n",
    "    test_corrects = 0\n",
    "\n",
    "    with torch.no_grad():  # Non-aktifkan gradien\n",
    "        for inputs, labels in test_loader:  # Gunakan test_loader\n",
    "            inputs = inputs.to(device)\n",
    "            labels = labels.to(device)\n",
    "\n",
    "            outputs = model(inputs)\n",
    "            _, preds = torch.max(outputs, 1)\n",
    "            loss = criterion(outputs, labels)\n",
    "\n",
    "            test_loss += loss.item() * inputs.size(0)\n",
    "            test_corrects += torch.sum(preds == labels.data)\n",
    "\n",
    "    epoch_test_loss = test_loss / len(test_loader.dataset)\n",
    "    epoch_test_acc = test_corrects.double() / len(test_loader.dataset)\n",
    "\n",
    "    print(f'Test - Loss: {epoch_test_loss:.4f}, Acc: {epoch_test_acc:.4f}')\n"
   ]
  },
  {
   "cell_type": "code",
   "execution_count": 20,
   "metadata": {},
   "outputs": [
    {
     "data": {
      "text/plain": [
       "[<matplotlib.lines.Line2D at 0x1b7145f5760>]"
      ]
     },
     "execution_count": 20,
     "metadata": {},
     "output_type": "execute_result"
    },
    {
     "data": {
      "image/png": "[encoded data removed]",
      "text/plain": [
       "<Figure size 640x480 with 1 Axes>"
      ]
     },
     "metadata": {},
     "output_type": "display_data"
    }
   ],
   "source": [
    "plt.plot(list_loss)"
   ]
  },
  {
   "cell_type": "code",
   "execution_count": 21,
   "metadata": {},
   "outputs": [
    {
     "data": {
      "text/plain": [
       "[<matplotlib.lines.Line2D at 0x1b71457b110>]"
      ]
     },
     "execution_count": 21,
     "metadata": {},
     "output_type": "execute_result"
    },
    {
     "data": {
      "image/png": "[encoded data removed]",
      "text/plain": [
       "<Figure size 640x480 with 1 Axes>"
      ]
     },
     "metadata": {},
     "output_type": "display_data"
    }
   ],
   "source": [
    "plt.plot(list_acc)"
   ]
  },
  {
   "cell_type": "code",
   "execution_count": 22,
   "metadata": {},
   "outputs": [],
   "source": [
    "from sklearn.model_selection import KFold\n",
    "import torch.nn.functional as F\n",
    "\n",
    "# Model Training Function\n",
    "def train_model(model, train_loader, criterion, optimizer, device, num_epochs=10):\n",
    "    model.train()\n",
    "    for epoch in range(num_epochs):\n",
    "        for inputs, labels in train_loader:\n",
    "            inputs, labels = inputs.to(device), labels.to(device)\n",
    "            \n",
    "            optimizer.zero_grad()\n",
    "            outputs = model(inputs)\n",
    "            loss = criterion(outputs, labels)\n",
    "            loss.backward()\n",
    "            optimizer.step()\n",
    "    return model"
   ]
  },
  {
   "cell_type": "code",
   "execution_count": 23,
   "metadata": {},
   "outputs": [],
   "source": [
    "# LOOCV and K-Fold Cross-Validation\n",
    "k_folds = 5\n",
    "kf = KFold(n_splits=k_folds, shuffle=True, random_state=42)\n",
    "\n"
   ]
  },
  {
   "cell_type": "code",
   "execution_count": 24,
   "metadata": {},
   "outputs": [],
   "source": [
    "# Container for metrics\n",
    "kfold_accuracies = []\n",
    "loocv_accuracies = []"
   ]
  },
  {
   "cell_type": "code",
   "execution_count": 25,
   "metadata": {},
   "outputs": [
    {
     "name": "stdout",
     "output_type": "stream",
     "text": [
      "Fold 1/5\n",
      "Accuracy for Fold 1: 0.0000\n",
      "Fold 2/5\n",
      "Accuracy for Fold 2: 0.0000\n",
      "Fold 3/5\n",
      "Accuracy for Fold 3: 0.0000\n",
      "Fold 4/5\n",
      "Accuracy for Fold 4: 0.0000\n",
      "Fold 5/5\n",
      "Accuracy for Fold 5: 0.5000\n"
     ]
    }
   ],
   "source": [
    "# K-Fold Cross-Validation\n",
    "for fold, (train_idx, val_idx) in enumerate(kf.split(x_train_normalized)):\n",
    "    print(f\"Fold {fold+1}/{k_folds}\")\n",
    "    \n",
    "    # Split data\n",
    "    X_train_kf = x_train_normalized[train_idx]\n",
    "    y_train_kf = y_train_tensor[train_idx]\n",
    "    X_val_kf = x_train_normalized[val_idx]\n",
    "    y_val_kf = y_train_tensor[val_idx]\n",
    "    \n",
    "    # Prepare DataLoader\n",
    "    train_dataset_kf = TensorDataset(X_train_kf, y_train_kf)\n",
    "    val_dataset_kf = TensorDataset(X_val_kf, y_val_kf)\n",
    "    train_loader_kf = DataLoader(train_dataset_kf, batch_size=64, shuffle=True)\n",
    "    val_loader_kf = DataLoader(val_dataset_kf, batch_size=64, shuffle=False)\n",
    "    \n",
    "    # Reinitialize model for each fold\n",
    "    model_kf = models.alexnet(pretrained=True)\n",
    "    model_kf.classifier[6] = nn.Linear(4096, 47)\n",
    "    model_kf.to(device)\n",
    "    \n",
    "    # Define loss and optimizer\n",
    "    criterion = nn.CrossEntropyLoss()\n",
    "    optimizer = optim.Adam(model_kf.parameters(), lr=0.0001)\n",
    "    \n",
    "    # Train model\n",
    "    trained_model = train_model(model_kf, train_loader_kf, criterion, optimizer, device, num_epochs=5)\n",
    "    \n",
    "    # Evaluate model\n",
    "    trained_model.eval()\n",
    "    correct = 0\n",
    "    total = 0\n",
    "    with torch.no_grad():\n",
    "        for inputs, labels in val_loader_kf:\n",
    "            inputs, labels = inputs.to(device), labels.to(device)\n",
    "            outputs = trained_model(inputs)\n",
    "            _, preds = torch.max(outputs, 1)\n",
    "            correct += (preds == labels).sum().item()\n",
    "            total += labels.size(0)\n",
    "    \n",
    "    fold_acc = correct / total\n",
    "    kfold_accuracies.append(fold_acc)\n",
    "    print(f\"Accuracy for Fold {fold+1}: {fold_acc:.4f}\")\n"
   ]
  },
  {
   "cell_type": "code",
   "execution_count": 26,
   "metadata": {},
   "outputs": [],
   "source": [
    "all_preds = []\n",
    "all_labels = []"
   ]
  },
  {
   "cell_type": "code",
   "execution_count": 27,
   "metadata": {},
   "outputs": [
    {
     "name": "stdout",
     "output_type": "stream",
     "text": [
      "LOOCV Iteration 1/10\n",
      "LOOCV Iteration 2/10\n",
      "LOOCV Iteration 3/10\n",
      "LOOCV Iteration 4/10\n",
      "LOOCV Iteration 5/10\n",
      "LOOCV Iteration 6/10\n",
      "LOOCV Iteration 7/10\n",
      "LOOCV Iteration 8/10\n",
      "LOOCV Iteration 9/10\n",
      "LOOCV Iteration 10/10\n"
     ]
    }
   ],
   "source": [
    "# LOOCV\n",
    "for i in range(min(10, len(x_train_normalized))):\n",
    "    print(f\"LOOCV Iteration {i + 1}/{min(10, len(x_train_normalized))}\")\n",
    "    \n",
    "    # Split data\n",
    "    X_test_loocv = x_train_normalized[i:i + 1]\n",
    "    y_test_loocv = y_train_tensor[i:i + 1]\n",
    "    X_train_loocv = torch.cat((x_train_normalized[:i], x_train_normalized[i + 1:]), dim=0)\n",
    "    y_train_loocv = torch.cat((y_train_tensor[:i], y_train_tensor[i + 1:]), dim=0)\n",
    "    \n",
    "    # Prepare DataLoader\n",
    "    train_dataset_loocv = TensorDataset(X_train_loocv, y_train_loocv)\n",
    "    train_loader_loocv = DataLoader(train_dataset_loocv, batch_size=64, shuffle=True)\n",
    "    \n",
    "    # Reinitialize model for each LOOCV iteration\n",
    "    model_loocv = models.alexnet(pretrained=True)\n",
    "    model_loocv.classifier[6] = nn.Linear(4096, 47)\n",
    "    model_loocv.to(device)\n",
    "    \n",
    "    # Define loss and optimizer\n",
    "    criterion = nn.CrossEntropyLoss()\n",
    "    optimizer = optim.Adam(model_loocv.parameters(), lr=0.0001)\n",
    "    \n",
    "    # Train model\n",
    "    trained_model = train_model(model_loocv, train_loader_loocv, criterion, optimizer, device, num_epochs=5)\n",
    "    \n",
    "    # Evaluate model\n",
    "    trained_model.eval()\n",
    "    with torch.no_grad():\n",
    "        inputs, labels = X_test_loocv.to(device), y_test_loocv.to(device)\n",
    "        outputs = trained_model(inputs)\n",
    "        _, preds = torch.max(outputs, 1)\n",
    "        acc = (preds == labels).sum().item() / labels.size(0)\n",
    "        loocv_accuracies.append(acc)\n",
    "\n",
    "        # Append predictions and true labels\n",
    "        all_preds.append(preds.cpu().item())\n",
    "        all_labels.append(labels.cpu().item())\n"
   ]
  },
  {
   "cell_type": "code",
   "execution_count": 28,
   "metadata": {},
   "outputs": [
    {
     "name": "stdout",
     "output_type": "stream",
     "text": [
      "K-Fold Mean Accuracy: 0.1000\n",
      "LOOCV Mean Accuracy: 0.1000\n"
     ]
    }
   ],
   "source": [
    "# Report Results\n",
    "print(f\"K-Fold Mean Accuracy: {np.mean(kfold_accuracies):.4f}\")\n",
    "print(f\"LOOCV Mean Accuracy: {np.mean(loocv_accuracies):.4f}\")"
   ]
  },
  {
   "cell_type": "code",
   "execution_count": 29,
   "metadata": {},
   "outputs": [
    {
     "name": "stderr",
     "output_type": "stream",
     "text": [
      "c:\\Users\\fikri\\Library\\Library python\\ENV\\Lib\\site-packages\\sklearn\\metrics\\_classification.py:1531: UndefinedMetricWarning: Precision is ill-defined and being set to 0.0 in labels with no predicted samples. Use `zero_division` parameter to control this behavior.\n",
      "  _warn_prf(average, modifier, f\"{metric.capitalize()} is\", len(result))\n"
     ]
    }
   ],
   "source": [
    "\n",
    "# Hitung metrik evaluasi\n",
    "loo_confusion_matrix = confusion_matrix(all_labels, all_preds)\n",
    "loo_accuracy = accuracy_score(all_labels, all_preds)\n",
    "loo_precision = precision_score(all_labels, all_preds, average='weighted')\n",
    "loo_recall = recall_score(all_labels, all_preds, average='weighted')\n",
    "loo_f1 = f1_score(all_labels, all_preds, average='weighted')"
   ]
  },
  {
   "cell_type": "code",
   "execution_count": 30,
   "metadata": {},
   "outputs": [
    {
     "name": "stdout",
     "output_type": "stream",
     "text": [
      "\n",
      "LOOCV Result Data Training:\n",
      "Confusion Matrix:\n",
      "[[0 0 0 1 0 0 0 0 0]\n",
      " [0 0 0 1 0 0 0 0 0]\n",
      " [0 0 0 0 0 0 1 0 0]\n",
      " [0 0 0 1 0 0 0 0 1]\n",
      " [0 0 0 1 0 0 0 0 0]\n",
      " [0 0 0 1 0 0 0 0 0]\n",
      " [0 0 0 0 1 0 0 0 0]\n",
      " [0 0 0 1 0 0 0 0 0]\n",
      " [0 0 0 1 0 0 0 0 0]]\n",
      "Accuracy: 0.1000\n",
      "Precision: 0.0286\n",
      "Recall: 0.1000\n",
      "F1 Score: 0.0444\n"
     ]
    }
   ],
   "source": [
    "print(\"\\nLOOCV Result Data Training:\")\n",
    "print(\"Confusion Matrix:\")\n",
    "print(loo_confusion_matrix)\n",
    "print(f\"Accuracy: {loo_accuracy:.4f}\")\n",
    "print(f\"Precision: {loo_precision:.4f}\")\n",
    "print(f\"Recall: {loo_recall:.4f}\")\n",
    "print(f\"F1 Score: {loo_f1:.4f}\")"
   ]
  },
  {
   "cell_type": "code",
   "execution_count": 31,
   "metadata": {},
   "outputs": [],
   "source": [
    "import seaborn as sns\n",
    "def plot_confusion_mat(cm):\n",
    "    plt.figure(figsize=(10, 10))\n",
    "    sns.heatmap(cm, annot=True, fmt=\"d\", cmap=\"Blues\", xticklabels=class_names, yticklabels=class_names)\n",
    "    plt.title(\"Confusion Matrix\")\n",
    "    plt.xlabel(\"Predicted Labels\")\n",
    "    plt.ylabel(\"True Labels\")\n",
    "    plt.show()\n"
   ]
  },
  {
   "cell_type": "code",
   "execution_count": 32,
   "metadata": {},
   "outputs": [
    {
     "data": {
      "text/plain": [
       "<Axes: >"
      ]
     },
     "execution_count": 32,
     "metadata": {},
     "output_type": "execute_result"
    },
    {
     "data": {
      "image/png": "[encoded data removed]",
      "text/plain": [
       "<Figure size 640x480 with 2 Axes>"
      ]
     },
     "metadata": {},
     "output_type": "display_data"
    }
   ],
   "source": [
    "sns.heatmap(loo_confusion_matrix)"
   ]
  },
  {
   "cell_type": "code",
   "execution_count": 33,
   "metadata": {},
   "outputs": [
    {
     "data": {
      "text/plain": [
       "(<Figure size 640x480 with 1 Axes>,\n",
       " <Axes: xlabel='predicted label', ylabel='true label'>)"
      ]
     },
     "execution_count": 33,
     "metadata": {},
     "output_type": "execute_result"
    },
    {
     "data": {
      "image/png": "[encoded data removed]",
      "text/plain": [
       "<Figure size 640x480 with 1 Axes>"
      ]
     },
     "metadata": {},
     "output_type": "display_data"
    }
   ],
   "source": [
    "# Misalkan Anda memiliki 47 kelas:\n",
    "class_names = [f\"Class {i}\" for i in range(47)]  # Ganti dengan nama kelas sebenarnya jika ada\n",
    "plot_confusion_matrix(loo_confusion_matrix, class_names)\n"
   ]
  }
 ],
 "metadata": {
  "kernelspec": {
   "display_name": "ENV",
   "language": "python",
   "name": "python3"
  },
  "language_info": {
   "codemirror_mode": {
    "name": "ipython",
    "version": 3
   },
   "file_extension": ".py",
   "mimetype": "text/x-python",
   "name": "python",
   "nbconvert_exporter": "python",
   "pygments_lexer": "ipython3",
   "version": "3.12.8"
  }
 },
 "nbformat": 4,
 "nbformat_minor": 2
}
